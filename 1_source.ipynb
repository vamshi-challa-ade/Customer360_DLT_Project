{
 "cells": [
  {
   "cell_type": "markdown",
   "metadata": {
    "application/vnd.databricks.v1+cell": {
     "cellMetadata": {},
     "inputWidgets": {},
     "nuid": "e6357abf-6fc7-491f-a074-ca8e54098720",
     "showTitle": false,
     "tableResultSettingsMap": {},
     "title": ""
    }
   },
   "source": [
    "### Reading the data into Table"
   ]
  },
  {
   "cell_type": "code",
   "execution_count": 0,
   "metadata": {
    "application/vnd.databricks.v1+cell": {
     "cellMetadata": {
      "byteLimit": 2048000,
      "rowLimit": 10000
     },
     "inputWidgets": {},
     "nuid": "80772cfe-d64d-4d8d-b06c-4c5f7394e3cc",
     "showTitle": false,
     "tableResultSettingsMap": {},
     "title": ""
    }
   },
   "outputs": [],
   "source": [
    "df_customers_new = spark.read.format('csv').option('header', True).load('abfss://raw@sadltdbtutorial.dfs.core.windows.net/customers_new.csv')\n",
    "df_orders = spark.read.format('csv').option('header', True).load('abfss://raw@sadltdbtutorial.dfs.core.windows.net/orders.csv')\n",
    "df_tickets = spark.read.format('csv').option('header', True).load('abfss://raw@sadltdbtutorial.dfs.core.windows.net/tickets.csv')\n",
    "\n",
    "\n",
    "display(df_customers_new)\n",
    "display(df_orders)\n",
    "display(df_tickets)"
   ]
  },
  {
   "cell_type": "code",
   "execution_count": 0,
   "metadata": {
    "application/vnd.databricks.v1+cell": {
     "cellMetadata": {
      "byteLimit": 2048000,
      "rowLimit": 10000
     },
     "inputWidgets": {},
     "nuid": "e0837982-4d61-43d6-bc17-2561b8b0c037",
     "showTitle": false,
     "tableResultSettingsMap": {},
     "title": ""
    }
   },
   "outputs": [],
   "source": [
    "df_customers_new.write.format('delta').mode('overwrite').saveAsTable('dlt_catalog.raw.raw_customers_new')\n",
    "df_orders.write.format('delta').mode('overwrite').saveAsTable('dlt_catalog.raw.raw_orders')\n",
    "df_tickets.write.format('delta').mode('overwrite').saveAsTable('dlt_catalog.raw.raw_tickets')"
   ]
  },
  {
   "cell_type": "code",
   "execution_count": 0,
   "metadata": {
    "application/vnd.databricks.v1+cell": {
     "cellMetadata": {
      "byteLimit": 2048000,
      "implicitDf": true,
      "rowLimit": 10000
     },
     "inputWidgets": {},
     "nuid": "d9245394-4e8c-4c9d-91b8-331c1af03dd1",
     "showTitle": false,
     "tableResultSettingsMap": {},
     "title": ""
    }
   },
   "outputs": [],
   "source": [
    "%sql\n",
    "SELECT * from dlt_catalog.schema3.avg_res_time"
   ]
  },
  {
   "cell_type": "code",
   "execution_count": 0,
   "metadata": {
    "application/vnd.databricks.v1+cell": {
     "cellMetadata": {
      "byteLimit": 2048000,
      "implicitDf": true,
      "rowLimit": 10000
     },
     "inputWidgets": {},
     "nuid": "2a6c9d04-13ca-4cf4-b0ad-601f988e0cb8",
     "showTitle": false,
     "tableResultSettingsMap": {},
     "title": ""
    }
   },
   "outputs": [],
   "source": [
    "%sql\n",
    "SELECT * from dlt_catalog.schema3.orders_per_customer"
   ]
  },
  {
   "cell_type": "code",
   "execution_count": 0,
   "metadata": {
    "application/vnd.databricks.v1+cell": {
     "cellMetadata": {
      "byteLimit": 2048000,
      "rowLimit": 10000
     },
     "inputWidgets": {},
     "nuid": "30811015-1076-41a8-a327-ad672fc5b10d",
     "showTitle": false,
     "tableResultSettingsMap": {},
     "title": ""
    }
   },
   "outputs": [],
   "source": [
    "%sh\n",
    "git config --global --add safe.directory /Workspace/Repos/venkyp116@outlook.com/Customer360_DLT_Project\n"
   ]
  },
  {
   "cell_type": "code",
   "execution_count": 0,
   "metadata": {
    "application/vnd.databricks.v1+cell": {
     "cellMetadata": {
      "byteLimit": 2048000,
      "rowLimit": 10000
     },
     "inputWidgets": {},
     "nuid": "4b9556a5-c367-47a5-a2c1-c5efc9723ae8",
     "showTitle": false,
     "tableResultSettingsMap": {},
     "title": ""
    }
   },
   "outputs": [],
   "source": [
    "%sh\n",
    "cd /Workspace/Repos/venkyp116@outlook.com/Customer360_DLT_Project\n",
    "\n",
    "# initialize a git repo here\n",
    "git init\n",
    "git remote add origin https://github.com/vamshi-challa/Customer360_DLT_Project\n",
    ".git\n",
    "\n",
    "git add .\n",
    "git commit -m \"Initial commit\"\n",
    "git branch -M main\n",
    "git push -u origin main"
   ]
  }
 ],
 "metadata": {
  "application/vnd.databricks.v1+notebook": {
   "computePreferences": {
    "hardware": {
     "accelerator": null,
     "gpuPoolId": null,
     "memory": null
    }
   },
   "dashboards": [],
   "environmentMetadata": {
    "base_environment": "",
    "environment_version": "3"
   },
   "inputWidgetPreferences": null,
   "language": "python",
   "notebookMetadata": {
    "mostRecentlyExecutedCommandWithImplicitDF": {
     "commandId": 6607379179953840,
     "dataframes": [
      "_sqldf"
     ]
    },
    "pythonIndentUnit": 4
   },
   "notebookName": "1_source",
   "widgets": {}
  },
  "language_info": {
   "name": "python"
  }
 },
 "nbformat": 4,
 "nbformat_minor": 0
}
