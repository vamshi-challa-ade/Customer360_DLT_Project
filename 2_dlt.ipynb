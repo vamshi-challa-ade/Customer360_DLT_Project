{
 "cells": [
  {
   "cell_type": "code",
   "execution_count": 0,
   "metadata": {
    "application/vnd.databricks.v1+cell": {
     "cellMetadata": {},
     "inputWidgets": {},
     "nuid": "cfc2c550-5e1a-4d08-841f-df125f650725",
     "showTitle": false,
     "tableResultSettingsMap": {},
     "title": ""
    },
    "jupyter": {
     "outputs_hidden": true
    }
   },
   "outputs": [],
   "source": [
    "from pyspark.sql.functions import col, avg, count, round\n",
    "import dlt"
   ]
  },
  {
   "cell_type": "code",
   "execution_count": 0,
   "metadata": {
    "application/vnd.databricks.v1+cell": {
     "cellMetadata": {},
     "inputWidgets": {},
     "nuid": "5ccebd77-386c-48ca-ab52-83533fc808fb",
     "showTitle": false,
     "tableResultSettingsMap": {},
     "title": ""
    }
   },
   "outputs": [],
   "source": [
    "@dlt.table\n",
    "def br_customers():\n",
    "    df_customers = spark.read.table('dlt_catalog.raw.raw_customers_new')\n",
    "    return df_customers\n",
    "\n",
    "@dlt.table\n",
    "def br_orders():\n",
    "    df_orders = spark.read.table('dlt_catalog.raw.raw_orders')\n",
    "    return df_orders\n",
    "\n",
    "@dlt.table\n",
    "def br_tickets():\n",
    "    df_tickets = spark.read.table('dlt_catalog.raw.raw_tickets')\n",
    "    return df_tickets"
   ]
  },
  {
   "cell_type": "code",
   "execution_count": 0,
   "metadata": {
    "application/vnd.databricks.v1+cell": {
     "cellMetadata": {},
     "inputWidgets": {},
     "nuid": "cb74a507-0df4-4f6d-88b2-6fe064c22745",
     "showTitle": false,
     "tableResultSettingsMap": {},
     "title": ""
    }
   },
   "outputs": [],
   "source": [
    "@dlt.view\n",
    "def sil_customers():\n",
    "    df_customers = spark.read.table('LIVE.br_customers')\n",
    "    df_customers = df_customers.dropna(how='any')\n",
    "    return df_customers\n",
    "@dlt.view\n",
    "def sil_orders():\n",
    "    df_orders = spark.read.table('LIVE.br_orders')\n",
    "    df_orders.where(col('status').isin('Completed', 'Pending', 'Cancelled'))\n",
    "    return df_orders\n",
    "@dlt.view\n",
    "def sil_tickets():\n",
    "    df_tickets = spark.read.table('LIVE.br_tickets')\n",
    "    df_tickets = df_tickets.filter(col('resolution_time')>0)\n",
    "    return df_tickets"
   ]
  },
  {
   "cell_type": "code",
   "execution_count": 0,
   "metadata": {
    "application/vnd.databricks.v1+cell": {
     "cellMetadata": {},
     "inputWidgets": {},
     "nuid": "9e8cd385-2560-4716-9cba-b740e84ba184",
     "showTitle": false,
     "tableResultSettingsMap": {},
     "title": ""
    }
   },
   "outputs": [],
   "source": [
    "from pyspark.sql.functions import avg, count\n",
    "\n",
    "@dlt.table\n",
    "def avg_res_time():\n",
    "    df_cust = spark.read.table('LIVE.sil_customers')\n",
    "    df_tickets = spark.read.table('LIVE.sil_tickets')\n",
    "    df_res = df_tickets.join(\n",
    "        df_cust,\n",
    "        df_cust.customer_id == df_tickets.customer_id,\n",
    "        'left'\n",
    "    )\n",
    "    df_res = df_res.groupBy(df_cust['customer_id'],df_cust['name']).agg(\n",
    "        round(avg('resolution_time'), 2).alias('avg_res_time'))\\\n",
    "    .select(df_cust['customer_id'],df_cust['name'], 'avg_res_time')\n",
    "    return df_res\n",
    "\n",
    "@dlt.table\n",
    "def orders_per_customer():\n",
    "    df_orders = spark.read.table('LIVE.sil_orders')\n",
    "    df_cust = spark.read.table('LIVE.sil_customers')\n",
    "    df_order_res = df_orders.join(\n",
    "        df_cust,\n",
    "        df_cust.customer_id == df_orders.customer_id,\n",
    "        'left'\n",
    "    )\n",
    "    df_order_res = df_order_res.groupBy(df_cust['customer_id']).agg(\n",
    "        round(count((df_cust['customer_id'])), 2).alias('orders_per_customer')\n",
    "    )\n",
    "    return df_order_res"
   ]
  }
 ],
 "metadata": {
  "application/vnd.databricks.v1+notebook": {
   "computePreferences": null,
   "dashboards": [],
   "environmentMetadata": {
    "base_environment": "",
    "environment_version": "3"
   },
   "inputWidgetPreferences": null,
   "language": "python",
   "notebookMetadata": {
    "pythonIndentUnit": 4
   },
   "notebookName": "2_dlt",
   "widgets": {}
  },
  "language_info": {
   "name": "python"
  }
 },
 "nbformat": 4,
 "nbformat_minor": 0
}
